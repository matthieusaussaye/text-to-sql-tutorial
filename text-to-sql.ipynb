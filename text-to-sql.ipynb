{
 "cells": [
  {
   "cell_type": "code",
   "execution_count": 2,
   "id": "initial_id",
   "metadata": {
    "collapsed": true,
    "ExecuteTime": {
     "end_time": "2024-01-09T15:12:23.006035Z",
     "start_time": "2024-01-09T15:12:09.600490Z"
    }
   },
   "outputs": [],
   "source": [
    "from sqlalchemy.engine.url import URL\n",
    "from sqlalchemy import create_engine\n",
    "import yaml\n",
    "from llama_index import SQLDatabase\n",
    "from llama_index.llms import OpenAI\n",
    "from llama_index.indices.struct_store.sql_query import NLSQLTableQueryEngine\n",
    "import logging\n",
    "import sys\n",
    "\n",
    "logging.basicConfig(stream=sys.stdout, level=logging.INFO)\n",
    "logging.getLogger().addHandler(logging.StreamHandler(stream=sys.stdout))\n",
    "\n",
    "llm = OpenAI(model=\"gpt-4\")\n",
    "\n",
    "from llama_index.prompts import PromptTemplate"
   ]
  },
  {
   "cell_type": "markdown",
   "source": [
    "Dans ce premier prompt vous devez definir plusieurs choses:\n",
    "- Comment le LLM doit se comporter (1)\n",
    "- Quelles colonnes il doit obligatoirement utiliser pour faire son analyse (2)\n",
    "- Description de la table pour aider le LLM (3)\n",
    "- Guider le LLM pour sa query (exemple avec le pays) (4)\n",
    "- Donner la bonne syntaxe (MSSQL vs MYSQL vs PostgreSQL) (5)\n",
    "- Template natif à Llamaindex (6)"
   ],
   "metadata": {
    "collapsed": false
   },
   "id": "fcc573a7bc7109a1"
  },
  {
   "cell_type": "code",
   "execution_count": null,
   "outputs": [],
   "source": [
    "text_to_sql_tmpl = \"\"\"\\\n",
    "Given an input question, first create a syntactically correct {dialect} \\\n",
    "query to run, then look at the results of the query and return the answer. \\\n",
    "You can order the results by a relevant column to return the most \\\n",
    "interesting examples in the database. Always select this relevant column in your query in order to write an analysis afterward \\\n",
    "Always select the BPI and ConsumerDemandGap in order to retrieve it in your analysis at the end.\\\n",
    "If the user specify the product type/company/product name, you will just at the end do an analysis but do not search for the product name/type in the table\\\n",
    "\n",
    "Pay attention to use only the column names that you can see in the schema \\\n",
    "description. Be careful to not query for columns that do not exist. \\\n",
    "Pay attention to which column is in which table. Also, qualify column names \\\n",
    "with the table name when needed. \n",
    "\n",
    "\n",
    "The table View_CombinedAnalysis contains 7 columns: [idbrand] \"\\\n",
    "[brand] \\\n",
    "[id_country] \\\n",
    "[BPI] \\\n",
    "[ConsumerDemandGap] \\\n",
    "[OwnAvg] \\\n",
    "[PurchaseAvg] \\\n",
    "For the country: \\\n",
    "\n",
    "Select the 2 first letters of the ISO code in a list of the countries mentioned by the user in following format for id_country: \\\n",
    "For example: ['FR','GB','US'] for France, United Kingdom and the United States \\\n",
    "\n",
    "Pay attention to execute the queries in MSSQL language. Meaning that for example you will note execute a query using \"LIMIT n\" \\\n",
    "But rather using \"TOP n\" \\\n",
    "(example below are what you should execute) \\\n",
    "Example:\n",
    "The good one:\n",
    "SELECT TOP 1 brand,BPI,ConsumerDemandGap FROM View_CombinedAnalysis ORDER BY BPI DESC; \n",
    "The bad one:\n",
    "SELECT brand FROM View_CombinedAnalysis ORDER BY BPI DESC LIMIT 1; \n",
    "\n",
    "You are required to use the following format, \\\n",
    "each taking one line:\n",
    "\n",
    "Question: Question here\n",
    "SQLQuery: SQL Query to run\n",
    "SQLResult: Result of the SQLQuery\n",
    "Answer: Final answer here\n",
    "\n",
    "Only use tables listed below.\n",
    "{schema}\n",
    "\n",
    "\n",
    "Question: {query_str}\n",
    "SQLQuery: \\\n",
    "\"\"\""
   ],
   "metadata": {
    "collapsed": false
   },
   "id": "16c773457f99432b"
  },
  {
   "cell_type": "markdown",
   "source": [
    "Dans ce second prompt vous devez definir plusieurs choses:\n",
    "- Quel rôle doit jouer le LLM (1)\n",
    "- Quelle type d'analyse je souhaite faire  (2)\n",
    "- Etant donné sur une question, la manière dont je synthétise ma réponse (3)\n",
    "- Plus de détail (4)\n",
    "- Template natif à Llamaindex (5)"
   ],
   "metadata": {
    "collapsed": false
   },
   "id": "8a4ce43ed510e151"
  },
  {
   "cell_type": "code",
   "execution_count": null,
   "outputs": [],
   "source": [
    "RESPONSE_SYNTHESIS_PROMPT_TMPL_V2 = (\n",
    "    \"As an expert in market trends and brand popularity, you have to provide complete and professional analysis of your result.\\n\"\n",
    "    \"For each brand you will provide me with a in-depth analysis on why is should be interesting to introduce the market with it.\\n\"\n",
    "    \"Given an input question, synthesize a response from the query results and analyze the BPI and the ConsumerDemandGap for each brands. Write this BPI.\\n\"\n",
    "    \"At the end you will add a line with (Source: BrandTrends Entertainment)\\n\"\n",
    "    \"Query: {query_str}\\n\"\n",
    "    \"SQL: {sql_query}\\n\"\n",
    "    \"SQL Response: {context_str}\\n\"\n",
    "    \"Response: \"\n",
    ")\n",
    "text_to_sql_prompt = PromptTemplate(text_to_sql_tmpl)\n",
    "response_synthesis_prompt = PromptTemplate(RESPONSE_SYNTHESIS_PROMPT_TMPL_V2)\n"
   ],
   "metadata": {
    "collapsed": false
   },
   "id": "d710377b130fe83b"
  },
  {
   "cell_type": "markdown",
   "source": [
    "Next step:\n",
    "- Créer votre DB (Azure MSSQL est recommandable pour son partenariat avec Azure)\n",
    "- Donner la configuration avec sql alchemy\n",
    "- Créer la DB avec llamaindex"
   ],
   "metadata": {
    "collapsed": false
   },
   "id": "99d124f00f0cad59"
  },
  {
   "cell_type": "code",
   "execution_count": null,
   "outputs": [],
   "source": [
    "try:\n",
    "    # Read database configuration\n",
    "    with open('config/config.yaml', 'r') as file:\n",
    "        config = yaml.safe_load(file).get('database_credentials')\n",
    "    # Create connection URL\n",
    "    connect_url = URL.create(\n",
    "        'mssql+pyodbc',\n",
    "        username=config['username'],\n",
    "        password=config['password'],\n",
    "        host=config['host'],\n",
    "        port=config['port'],\n",
    "        database=config['database'],\n",
    "        query=dict(driver='/opt/homebrew/Cellar/msodbcsql18/18.3.2.1/lib/libmsodbcsql.18.dylib')\n",
    "    )\n",
    "\n",
    "    # Create an engine\n",
    "    engine = create_engine(connect_url)\n",
    "except Exception as e:\n",
    "    print(f\"An error occurred: {e}\")\n",
    "\n",
    "finally:\n",
    "    engine.dispose()\n",
    "\n",
    "sql_database = SQLDatabase(engine,\n",
    "                           include_tables=[\"View_CombinedAnalysis\"],\n",
    "                           view_support = True,)\n",
    "print(sql_database)"
   ],
   "metadata": {
    "collapsed": false
   },
   "id": "3c82c1b43f8377d2"
  },
  {
   "cell_type": "markdown",
   "source": [
    "Last step:\n",
    "- Création du query engine, avec les prompts et db \n",
    "- Puis query en language naturel"
   ],
   "metadata": {
    "collapsed": false
   },
   "id": "c1e0ac0cdb8ee60a"
  },
  {
   "cell_type": "code",
   "execution_count": null,
   "outputs": [],
   "source": [
    "sql_query_engine = NLSQLTableQueryEngine(\n",
    "    text_to_sql_prompt=text_to_sql_prompt,\n",
    "    sql_database=sql_database,\n",
    "    tables=[\"View_CombinedAnalysis\"],\n",
    "    response_synthesis_prompt=response_synthesis_prompt\n",
    ")\n"
   ],
   "metadata": {
    "collapsed": false
   },
   "id": "807a3ea6644e6910"
  },
  {
   "cell_type": "code",
   "execution_count": null,
   "outputs": [],
   "source": [
    "response = sql_query_engine.query(\"Present a shortlist of 3 to 5 brands suitable for licensing for a personal care company in United Kingdom. \")\n",
    "\n",
    "\n",
    "print(str(response))"
   ],
   "metadata": {
    "collapsed": false
   },
   "id": "38298be22487a28e"
  }
 ],
 "metadata": {
  "kernelspec": {
   "display_name": "Python 3",
   "language": "python",
   "name": "python3"
  },
  "language_info": {
   "codemirror_mode": {
    "name": "ipython",
    "version": 2
   },
   "file_extension": ".py",
   "mimetype": "text/x-python",
   "name": "python",
   "nbconvert_exporter": "python",
   "pygments_lexer": "ipython2",
   "version": "2.7.6"
  }
 },
 "nbformat": 4,
 "nbformat_minor": 5
}
